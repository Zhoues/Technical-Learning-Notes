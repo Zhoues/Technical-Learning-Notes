{
 "cells": [
  {
   "cell_type": "markdown",
   "metadata": {},
   "source": [
    "### 使用torch.nn.Sequential快速搭建神经网络(CIFAR10实战)"
   ]
  },
  {
   "cell_type": "code",
   "execution_count": 4,
   "metadata": {},
   "outputs": [],
   "source": [
    "import torch\n",
    "import torchvision\n",
    "from torch import nn\n",
    "from torch.nn import Conv2d,MaxPool2d,ReLU,Flatten,Linear,Sequential\n",
    "from torch.utils.data import DataLoader"
   ]
  },
  {
   "cell_type": "code",
   "execution_count": 2,
   "metadata": {},
   "outputs": [],
   "source": [
    "# 统一转换为 tensor 类型\n",
    "dataset_transform = torchvision.transforms.Compose([\n",
    "    torchvision.transforms.ToTensor()\n",
    "])"
   ]
  },
  {
   "cell_type": "code",
   "execution_count": 3,
   "metadata": {},
   "outputs": [
    {
     "name": "stdout",
     "output_type": "stream",
     "text": [
      "Files already downloaded and verified\n",
      "Files already downloaded and verified\n"
     ]
    }
   ],
   "source": [
    "# 训练集\n",
    "train_set = torchvision.datasets.CIFAR10(root='./dataset/CIFAR10',train=True, transform=dataset_transform, download=True)\n",
    "# 测试集\n",
    "test_set = torchvision.datasets.CIFAR10(root='./dataset/CIFAR10',train=False, transform=dataset_transform, download=True)"
   ]
  },
  {
   "cell_type": "code",
   "execution_count": 7,
   "metadata": {},
   "outputs": [],
   "source": [
    "# 创建加载数据的对象\n",
    "test_loader = DataLoader(dataset=test_set, batch_size=64)"
   ]
  },
  {
   "cell_type": "code",
   "execution_count": 6,
   "metadata": {},
   "outputs": [],
   "source": [
    "class MyModel(nn.Module):\n",
    "    # 重写构造函数，确定神经网络的构成\n",
    "    def __init__(self):\n",
    "        # 调用父类进行初始化\n",
    "        super(MyModel, self).__init__()\n",
    "        self.model1 = Sequential(\n",
    "            Conv2d(3,32,5,padding=2),\n",
    "            MaxPool2d(2),\n",
    "            Conv2d(32,32,5,padding=2),\n",
    "            MaxPool2d(2),\n",
    "            Conv2d(32,64,5,padding=2),\n",
    "            MaxPool2d(2),\n",
    "            Flatten(),\n",
    "            Linear(1024,64),\n",
    "            Linear(64,10)\n",
    "        )\n",
    "    # 重写前向运算\n",
    "    def forward(self, x):\n",
    "       return self.model1(x)"
   ]
  }
 ],
 "metadata": {
  "kernelspec": {
   "display_name": "Python 3.9.12 ('DeepLearning')",
   "language": "python",
   "name": "python3"
  },
  "language_info": {
   "codemirror_mode": {
    "name": "ipython",
    "version": 3
   },
   "file_extension": ".py",
   "mimetype": "text/x-python",
   "name": "python",
   "nbconvert_exporter": "python",
   "pygments_lexer": "ipython3",
   "version": "3.9.12"
  },
  "orig_nbformat": 4,
  "vscode": {
   "interpreter": {
    "hash": "43b0a550ef5c6a967954effa912da879379e1c16afb6534ad7d5212b4a32c414"
   }
  }
 },
 "nbformat": 4,
 "nbformat_minor": 2
}
