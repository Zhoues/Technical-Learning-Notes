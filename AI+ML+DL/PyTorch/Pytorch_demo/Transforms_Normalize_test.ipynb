{
 "cells": [
  {
   "cell_type": "markdown",
   "metadata": {},
   "source": [
    "### Transforms中Normalize的使用：对图片进行归一化操作"
   ]
  },
  {
   "cell_type": "markdown",
   "metadata": {},
   "source": [
    "导包"
   ]
  },
  {
   "cell_type": "code",
   "execution_count": 10,
   "metadata": {},
   "outputs": [],
   "source": [
    "from torch.utils.tensorboard import SummaryWriter\n",
    "from torchvision import transforms\n",
    "from PIL import Image\n",
    "import cv2"
   ]
  },
  {
   "cell_type": "markdown",
   "metadata": {},
   "source": [
    "设置打开图片的路径和信息"
   ]
  },
  {
   "cell_type": "code",
   "execution_count": 11,
   "metadata": {},
   "outputs": [],
   "source": [
    "# 设置文件的打开路径\n",
    "img_path = \"dataset/dataset_test/train/bees/16838648_415acd9e3f.jpg\"\n",
    "# 获得该图片的信息\n",
    "img_PIL = Image.open(img_path)\n",
    "# img_CV = cv2.imread(img_path)"
   ]
  },
  {
   "cell_type": "markdown",
   "metadata": {},
   "source": [
    "创建 transforms 的 ToTensor() 对象，并将图片转换为 Tensor 类型"
   ]
  },
  {
   "cell_type": "code",
   "execution_count": 12,
   "metadata": {},
   "outputs": [],
   "source": [
    "# 创建转换对象\n",
    "tensor_transforms = transforms.ToTensor()\n",
    "# 将图片转换为tensor类型\n",
    "img_tensor = tensor_transforms(img_PIL)\n",
    "# img_tensor = tensor_transforms(img_CV)"
   ]
  },
  {
   "cell_type": "markdown",
   "metadata": {},
   "source": [
    "进行数据归一化"
   ]
  },
  {
   "cell_type": "code",
   "execution_count": 13,
   "metadata": {},
   "outputs": [
    {
     "name": "stdout",
     "output_type": "stream",
     "text": [
      "tensor(0.0980)\n",
      "tensor(-0.8039)\n"
     ]
    }
   ],
   "source": [
    "# 查看第一个像素点信息\n",
    "print(img_tensor[0][0][0])\n",
    "# 创建归一化对象(均值向量，方差向量)\n",
    "normal_transforms = transforms.Normalize([0.5, 0.5, 0.5],\n",
    "                                        [0.5, 0.5, 0.5])\n",
    "# 进行图片归一化(传入图片的tensor信息)\n",
    "img_normal = normal_transforms(img_tensor)\n",
    "# 查看归一化后的第一个像素点信息\n",
    "print(img_normal[0][0][0])                                       "
   ]
  },
  {
   "cell_type": "markdown",
   "metadata": {},
   "source": [
    "使用SummaryWriter进行绘制"
   ]
  },
  {
   "cell_type": "code",
   "execution_count": 14,
   "metadata": {},
   "outputs": [],
   "source": [
    "# 设置生成图片的位置\n",
    "writer = SummaryWriter(\"SummaryWriter/img/logs\")\n",
    "# 进行绘制(图片显示名称，图片数据，步骤，传入数据样式)\n",
    "writer.add_image(\"Normalize\", img_tensor, 1)\n",
    "writer.add_image(\"Normalize\", img_normal, 2)"
   ]
  }
 ],
 "metadata": {
  "kernelspec": {
   "display_name": "Python 3.9.12 ('DeepLearning')",
   "language": "python",
   "name": "python3"
  },
  "language_info": {
   "codemirror_mode": {
    "name": "ipython",
    "version": 3
   },
   "file_extension": ".py",
   "mimetype": "text/x-python",
   "name": "python",
   "nbconvert_exporter": "python",
   "pygments_lexer": "ipython3",
   "version": "3.9.12"
  },
  "orig_nbformat": 4,
  "vscode": {
   "interpreter": {
    "hash": "43b0a550ef5c6a967954effa912da879379e1c16afb6534ad7d5212b4a32c414"
   }
  }
 },
 "nbformat": 4,
 "nbformat_minor": 2
}
