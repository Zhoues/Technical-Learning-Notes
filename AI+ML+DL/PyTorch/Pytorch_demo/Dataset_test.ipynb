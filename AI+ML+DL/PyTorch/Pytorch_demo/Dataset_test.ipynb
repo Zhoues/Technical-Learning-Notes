{
 "cells": [
  {
   "cell_type": "markdown",
   "metadata": {},
   "source": [
    "### Dataset类的重写，用于读取训练和测试数据"
   ]
  },
  {
   "cell_type": "markdown",
   "metadata": {},
   "source": [
    "导包"
   ]
  },
  {
   "cell_type": "code",
   "execution_count": 14,
   "metadata": {},
   "outputs": [],
   "source": [
    "from torch.utils.data import Dataset\n",
    "from PIL import Image\n",
    "import os "
   ]
  },
  {
   "cell_type": "markdown",
   "metadata": {},
   "source": [
    "编写重写Dataset类\n"
   ]
  },
  {
   "cell_type": "code",
   "execution_count": 15,
   "metadata": {},
   "outputs": [],
   "source": [
    "class MyData(Dataset):\n",
    "\n",
    "    # 定义构造方法\n",
    "    def __init__(self, root_dir, label_dir):\n",
    "        # 分别获取根路径和所属类别的文件夹名称\n",
    "        self.root_dir = root_dir\n",
    "        self.label_dir = label_dir\n",
    "        # 拼接之后为分类后图片的位置\n",
    "        self.path = os.path.join(self.root_dir, self.label_dir)\n",
    "        # 打开文件夹，获得到图片的列表\n",
    "        self.img_list = os.listdir(self.path)\n",
    "    \n",
    "    # 获取具体图片\n",
    "    def __getitem__(self, idx):\n",
    "        # 得到索引对应的图片\n",
    "        img_name = self.img_list[idx]\n",
    "        # 获得具体图片的路径\n",
    "        img_item_path = os.path.join(self.root_dir, self.label_dir, img_name)\n",
    "        # 打开图片，并返回图片信息及其标签\n",
    "        img = Image.open(img_item_path)\n",
    "        label = self.label_dir\n",
    "        return img, label\n",
    "\n",
    "    # 获取到图片列表的长度\n",
    "    def __len__(self):\n",
    "        return len(self.img_list)"
   ]
  },
  {
   "cell_type": "markdown",
   "metadata": {},
   "source": [
    "测试"
   ]
  },
  {
   "cell_type": "code",
   "execution_count": 16,
   "metadata": {},
   "outputs": [
    {
     "data": {
      "text/plain": [
       "245"
      ]
     },
     "execution_count": 16,
     "metadata": {},
     "output_type": "execute_result"
    }
   ],
   "source": [
    "# 定义路径\n",
    "root_dir = \"dataset/dataset_test/train\"\n",
    "ants_label_dir = \"ants\"\n",
    "bees_label_dir = \"bees\"\n",
    "\n",
    "# 创建对象\n",
    "ants_dataset = MyData(root_dir, ants_label_dir)\n",
    "bees_dataset = MyData(root_dir, bees_label_dir)\n",
    "\n",
    "# 获取对象\n",
    "# ants_img, ants_label = ants_dataset[1]\n",
    "# bees_img, bees_label = bees_dataset[1]\n",
    "\n",
    "# 打开图片\n",
    "# ants_img.show()\n",
    "# bees_img.show()\n",
    "\n",
    "# 获取训练数据集\n",
    "train_dataset = ants_dataset + bees_dataset\n",
    "len(train_dataset)"
   ]
  }
 ],
 "metadata": {
  "kernelspec": {
   "display_name": "Python 3.9.12 ('DeepLearning')",
   "language": "python",
   "name": "python3"
  },
  "language_info": {
   "codemirror_mode": {
    "name": "ipython",
    "version": 3
   },
   "file_extension": ".py",
   "mimetype": "text/x-python",
   "name": "python",
   "nbconvert_exporter": "python",
   "pygments_lexer": "ipython3",
   "version": "3.9.12"
  },
  "orig_nbformat": 4,
  "vscode": {
   "interpreter": {
    "hash": "43b0a550ef5c6a967954effa912da879379e1c16afb6534ad7d5212b4a32c414"
   }
  }
 },
 "nbformat": 4,
 "nbformat_minor": 2
}
