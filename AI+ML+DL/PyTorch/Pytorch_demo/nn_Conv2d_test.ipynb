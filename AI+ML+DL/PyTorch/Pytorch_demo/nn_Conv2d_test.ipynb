{
 "cells": [
  {
   "cell_type": "markdown",
   "metadata": {},
   "source": [
    "### nn中的Conv2d，神经网络中的卷积操作"
   ]
  },
  {
   "cell_type": "markdown",
   "metadata": {},
   "source": [
    "卷积参数"
   ]
  },
  {
   "cell_type": "markdown",
   "metadata": {},
   "source": [
    "torch.nn.Conv2d (in_channels, out_channels, kernel_size, stride=1, padding=0, dilation=1, groups=1, bias=True, padding_mode='zeros', device=None, dtype=None)"
   ]
  },
  {
   "cell_type": "markdown",
   "metadata": {},
   "source": [
    "卷积公式"
   ]
  },
  {
   "cell_type": "markdown",
   "metadata": {},
   "source": [
    "$$\n",
    "out(N \n",
    "i\n",
    "​\n",
    " ,C \n",
    "out \n",
    "j\n",
    "​\n",
    " \n",
    "​\n",
    " )=bias(C \n",
    "out \n",
    "j\n",
    "​\n",
    " \n",
    "​\n",
    " )+\\sum \n",
    "_{k=0}\n",
    "^\n",
    "{C \n",
    "in\n",
    "​\n",
    " −1}\n",
    "​\n",
    " weight(C \n",
    "out \n",
    "j\n",
    "​\n",
    " \n",
    "​\n",
    " ,k)⋆input(N \n",
    "i\n",
    "​\n",
    " ,k)\n",
    "$$"
   ]
  },
  {
   "cell_type": "markdown",
   "metadata": {},
   "source": [
    "### 代码实操"
   ]
  },
  {
   "cell_type": "code",
   "execution_count": 10,
   "metadata": {},
   "outputs": [],
   "source": [
    "import torch\n",
    "import torchvision\n",
    "from torch import nn\n",
    "from torch.nn import Conv2d\n",
    "from torch.utils.data import DataLoader"
   ]
  },
  {
   "cell_type": "code",
   "execution_count": 3,
   "metadata": {},
   "outputs": [],
   "source": [
    "# 统一转换为 tensor 类型\n",
    "dataset_transform = torchvision.transforms.Compose([\n",
    "    torchvision.transforms.ToTensor()\n",
    "])"
   ]
  },
  {
   "cell_type": "code",
   "execution_count": 4,
   "metadata": {},
   "outputs": [
    {
     "name": "stdout",
     "output_type": "stream",
     "text": [
      "Files already downloaded and verified\n",
      "Files already downloaded and verified\n"
     ]
    }
   ],
   "source": [
    "# 训练集\n",
    "train_set = torchvision.datasets.CIFAR10(root='./dataset/CIFAR10',train=True, transform=dataset_transform, download=True)\n",
    "# 测试集\n",
    "test_set = torchvision.datasets.CIFAR10(root='./dataset/CIFAR10',train=False, transform=dataset_transform, download=True)"
   ]
  },
  {
   "cell_type": "code",
   "execution_count": 11,
   "metadata": {},
   "outputs": [],
   "source": [
    "# 创建加载数据的对象\n",
    "test_loader = DataLoader(dataset=test_set, batch_size=64)"
   ]
  },
  {
   "cell_type": "code",
   "execution_count": 8,
   "metadata": {},
   "outputs": [],
   "source": [
    "class MyModel(nn.Module):\n",
    "    # 重写构造函数，确定神经网络的构成\n",
    "    def __init__(self):\n",
    "        # 调用父类进行初始化\n",
    "        super(MyModel, self).__init__()\n",
    "        # 定义卷积层\n",
    "        self.conv1 = Conv2d(in_channels=3,out_channels=6,kernel_size=3,stride=1,padding=0)\n",
    "\n",
    "    # 重写前向运算\n",
    "    def forward(self, x):\n",
    "        return self.conv1(x)"
   ]
  },
  {
   "cell_type": "code",
   "execution_count": 9,
   "metadata": {},
   "outputs": [
    {
     "name": "stdout",
     "output_type": "stream",
     "text": [
      "MyModel(\n",
      "  (conv1): Conv2d(3, 6, kernel_size=(3, 3), stride=(1, 1))\n",
      ")\n"
     ]
    }
   ],
   "source": [
    "mymodel = MyModel()\n",
    "print(mymodel)"
   ]
  },
  {
   "cell_type": "code",
   "execution_count": 12,
   "metadata": {},
   "outputs": [
    {
     "name": "stdout",
     "output_type": "stream",
     "text": [
      "torch.Size([64, 6, 30, 30])\n",
      "torch.Size([64, 6, 30, 30])\n",
      "torch.Size([64, 6, 30, 30])\n",
      "torch.Size([64, 6, 30, 30])\n",
      "torch.Size([64, 6, 30, 30])\n",
      "torch.Size([64, 6, 30, 30])\n",
      "torch.Size([64, 6, 30, 30])\n",
      "torch.Size([64, 6, 30, 30])\n",
      "torch.Size([64, 6, 30, 30])\n",
      "torch.Size([64, 6, 30, 30])\n",
      "torch.Size([64, 6, 30, 30])\n",
      "torch.Size([64, 6, 30, 30])\n",
      "torch.Size([64, 6, 30, 30])\n",
      "torch.Size([64, 6, 30, 30])\n",
      "torch.Size([64, 6, 30, 30])\n",
      "torch.Size([64, 6, 30, 30])\n",
      "torch.Size([64, 6, 30, 30])\n",
      "torch.Size([64, 6, 30, 30])\n",
      "torch.Size([64, 6, 30, 30])\n",
      "torch.Size([64, 6, 30, 30])\n",
      "torch.Size([64, 6, 30, 30])\n",
      "torch.Size([64, 6, 30, 30])\n",
      "torch.Size([64, 6, 30, 30])\n",
      "torch.Size([64, 6, 30, 30])\n",
      "torch.Size([64, 6, 30, 30])\n",
      "torch.Size([64, 6, 30, 30])\n",
      "torch.Size([64, 6, 30, 30])\n",
      "torch.Size([64, 6, 30, 30])\n",
      "torch.Size([64, 6, 30, 30])\n",
      "torch.Size([64, 6, 30, 30])\n",
      "torch.Size([64, 6, 30, 30])\n",
      "torch.Size([64, 6, 30, 30])\n",
      "torch.Size([64, 6, 30, 30])\n",
      "torch.Size([64, 6, 30, 30])\n",
      "torch.Size([64, 6, 30, 30])\n",
      "torch.Size([64, 6, 30, 30])\n",
      "torch.Size([64, 6, 30, 30])\n",
      "torch.Size([64, 6, 30, 30])\n",
      "torch.Size([64, 6, 30, 30])\n",
      "torch.Size([64, 6, 30, 30])\n",
      "torch.Size([64, 6, 30, 30])\n",
      "torch.Size([64, 6, 30, 30])\n",
      "torch.Size([64, 6, 30, 30])\n",
      "torch.Size([64, 6, 30, 30])\n",
      "torch.Size([64, 6, 30, 30])\n",
      "torch.Size([64, 6, 30, 30])\n",
      "torch.Size([64, 6, 30, 30])\n",
      "torch.Size([64, 6, 30, 30])\n",
      "torch.Size([64, 6, 30, 30])\n",
      "torch.Size([64, 6, 30, 30])\n",
      "torch.Size([64, 6, 30, 30])\n",
      "torch.Size([64, 6, 30, 30])\n",
      "torch.Size([64, 6, 30, 30])\n",
      "torch.Size([64, 6, 30, 30])\n",
      "torch.Size([64, 6, 30, 30])\n",
      "torch.Size([64, 6, 30, 30])\n",
      "torch.Size([64, 6, 30, 30])\n",
      "torch.Size([64, 6, 30, 30])\n",
      "torch.Size([64, 6, 30, 30])\n",
      "torch.Size([64, 6, 30, 30])\n",
      "torch.Size([64, 6, 30, 30])\n",
      "torch.Size([64, 6, 30, 30])\n",
      "torch.Size([64, 6, 30, 30])\n",
      "torch.Size([64, 6, 30, 30])\n",
      "torch.Size([64, 6, 30, 30])\n",
      "torch.Size([64, 6, 30, 30])\n",
      "torch.Size([64, 6, 30, 30])\n",
      "torch.Size([64, 6, 30, 30])\n",
      "torch.Size([64, 6, 30, 30])\n",
      "torch.Size([64, 6, 30, 30])\n",
      "torch.Size([64, 6, 30, 30])\n",
      "torch.Size([64, 6, 30, 30])\n",
      "torch.Size([64, 6, 30, 30])\n",
      "torch.Size([64, 6, 30, 30])\n",
      "torch.Size([64, 6, 30, 30])\n",
      "torch.Size([64, 6, 30, 30])\n",
      "torch.Size([64, 6, 30, 30])\n",
      "torch.Size([64, 6, 30, 30])\n",
      "torch.Size([64, 6, 30, 30])\n",
      "torch.Size([64, 6, 30, 30])\n",
      "torch.Size([64, 6, 30, 30])\n",
      "torch.Size([64, 6, 30, 30])\n",
      "torch.Size([64, 6, 30, 30])\n",
      "torch.Size([64, 6, 30, 30])\n",
      "torch.Size([64, 6, 30, 30])\n",
      "torch.Size([64, 6, 30, 30])\n",
      "torch.Size([64, 6, 30, 30])\n",
      "torch.Size([64, 6, 30, 30])\n",
      "torch.Size([64, 6, 30, 30])\n",
      "torch.Size([64, 6, 30, 30])\n",
      "torch.Size([64, 6, 30, 30])\n",
      "torch.Size([64, 6, 30, 30])\n",
      "torch.Size([64, 6, 30, 30])\n",
      "torch.Size([64, 6, 30, 30])\n",
      "torch.Size([64, 6, 30, 30])\n",
      "torch.Size([64, 6, 30, 30])\n",
      "torch.Size([64, 6, 30, 30])\n",
      "torch.Size([64, 6, 30, 30])\n",
      "torch.Size([64, 6, 30, 30])\n",
      "torch.Size([64, 6, 30, 30])\n",
      "torch.Size([64, 6, 30, 30])\n",
      "torch.Size([64, 6, 30, 30])\n",
      "torch.Size([64, 6, 30, 30])\n",
      "torch.Size([64, 6, 30, 30])\n",
      "torch.Size([64, 6, 30, 30])\n",
      "torch.Size([64, 6, 30, 30])\n",
      "torch.Size([64, 6, 30, 30])\n",
      "torch.Size([64, 6, 30, 30])\n",
      "torch.Size([64, 6, 30, 30])\n",
      "torch.Size([64, 6, 30, 30])\n",
      "torch.Size([64, 6, 30, 30])\n",
      "torch.Size([64, 6, 30, 30])\n",
      "torch.Size([64, 6, 30, 30])\n",
      "torch.Size([64, 6, 30, 30])\n",
      "torch.Size([64, 6, 30, 30])\n",
      "torch.Size([64, 6, 30, 30])\n",
      "torch.Size([64, 6, 30, 30])\n",
      "torch.Size([64, 6, 30, 30])\n",
      "torch.Size([64, 6, 30, 30])\n",
      "torch.Size([64, 6, 30, 30])\n",
      "torch.Size([64, 6, 30, 30])\n",
      "torch.Size([64, 6, 30, 30])\n",
      "torch.Size([64, 6, 30, 30])\n",
      "torch.Size([64, 6, 30, 30])\n",
      "torch.Size([64, 6, 30, 30])\n",
      "torch.Size([64, 6, 30, 30])\n",
      "torch.Size([64, 6, 30, 30])\n",
      "torch.Size([64, 6, 30, 30])\n",
      "torch.Size([64, 6, 30, 30])\n",
      "torch.Size([64, 6, 30, 30])\n",
      "torch.Size([64, 6, 30, 30])\n",
      "torch.Size([64, 6, 30, 30])\n",
      "torch.Size([64, 6, 30, 30])\n",
      "torch.Size([64, 6, 30, 30])\n",
      "torch.Size([64, 6, 30, 30])\n",
      "torch.Size([64, 6, 30, 30])\n",
      "torch.Size([64, 6, 30, 30])\n",
      "torch.Size([64, 6, 30, 30])\n",
      "torch.Size([64, 6, 30, 30])\n",
      "torch.Size([64, 6, 30, 30])\n",
      "torch.Size([64, 6, 30, 30])\n",
      "torch.Size([64, 6, 30, 30])\n",
      "torch.Size([64, 6, 30, 30])\n",
      "torch.Size([64, 6, 30, 30])\n",
      "torch.Size([64, 6, 30, 30])\n",
      "torch.Size([64, 6, 30, 30])\n",
      "torch.Size([64, 6, 30, 30])\n",
      "torch.Size([64, 6, 30, 30])\n",
      "torch.Size([64, 6, 30, 30])\n",
      "torch.Size([64, 6, 30, 30])\n",
      "torch.Size([64, 6, 30, 30])\n",
      "torch.Size([64, 6, 30, 30])\n",
      "torch.Size([64, 6, 30, 30])\n",
      "torch.Size([64, 6, 30, 30])\n",
      "torch.Size([64, 6, 30, 30])\n",
      "torch.Size([64, 6, 30, 30])\n",
      "torch.Size([16, 6, 30, 30])\n"
     ]
    }
   ],
   "source": [
    "for data in test_loader:\n",
    "    imgs, targets = data\n",
    "    output = mymodel(imgs)\n",
    "    print(output.shape)"
   ]
  }
 ],
 "metadata": {
  "kernelspec": {
   "display_name": "Python 3.9.12 ('DeepLearning')",
   "language": "python",
   "name": "python3"
  },
  "language_info": {
   "codemirror_mode": {
    "name": "ipython",
    "version": 3
   },
   "file_extension": ".py",
   "mimetype": "text/x-python",
   "name": "python",
   "nbconvert_exporter": "python",
   "pygments_lexer": "ipython3",
   "version": "3.9.12"
  },
  "orig_nbformat": 4,
  "vscode": {
   "interpreter": {
    "hash": "43b0a550ef5c6a967954effa912da879379e1c16afb6534ad7d5212b4a32c414"
   }
  }
 },
 "nbformat": 4,
 "nbformat_minor": 2
}
