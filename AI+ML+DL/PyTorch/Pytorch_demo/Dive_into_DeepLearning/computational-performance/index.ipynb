{
 "cells": [
  {
   "cell_type": "markdown",
   "metadata": {
    "origin_pos": 0
   },
   "source": [
    "# 计算性能\n",
    ":label:`chap_performance`\n",
    "\n",
    "在深度学习中，数据集和模型通常都很大，导致计算量也会很大。\n",
    "因此，计算的性能非常重要。\n",
    "本章将集中讨论影响计算性能的主要因素：命令式编程、符号编程、\n",
    "异步计算、自动并行和多GPU计算。\n",
    "通过学习本章，对于前几章中实现的那些模型，你可以进一步提高它们的计算性能。\n",
    "例如，我们可以在不影响准确性的前提下，大大减少训练时间。\n",
    "\n",
    ":begin_tab:toc\n",
    " - [hybridize](hybridize.ipynb)\n",
    " - [async-computation](async-computation.ipynb)\n",
    " - [auto-parallelism](auto-parallelism.ipynb)\n",
    " - [hardware](hardware.ipynb)\n",
    " - [multiple-gpus](multiple-gpus.ipynb)\n",
    " - [multiple-gpus-concise](multiple-gpus-concise.ipynb)\n",
    " - [parameterserver](parameterserver.ipynb)\n",
    ":end_tab:\n"
   ]
  }
 ],
 "metadata": {
  "kernelspec": {
   "display_name": "Python 3.8.13 ('DL')",
   "language": "python",
   "name": "python3"
  },
  "language_info": {
   "name": "python",
   "version": "3.8.13"
  },
  "vscode": {
   "interpreter": {
    "hash": "65de2d32f21bfe3c4bd2fc5d8888928158ba5bb6c28b1f2012518986ad2ae8d9"
   }
  }
 },
 "nbformat": 4,
 "nbformat_minor": 4
}
