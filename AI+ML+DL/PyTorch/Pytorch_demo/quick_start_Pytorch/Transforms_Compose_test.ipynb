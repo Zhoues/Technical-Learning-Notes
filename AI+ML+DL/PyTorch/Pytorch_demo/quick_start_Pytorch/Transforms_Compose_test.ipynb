{
 "cells": [
  {
   "cell_type": "markdown",
   "metadata": {},
   "source": [
    "### Transforms中Compose的使用：对图片的操作做打包处理"
   ]
  },
  {
   "cell_type": "markdown",
   "metadata": {},
   "source": [
    "Compose()中的参数需要的是一个列表\n",
    "\n",
    "Python中，列表的表示形式为[数据1,数据2,...]\n",
    "\n",
    "在Compose()中，数据西药的是transforms类型，所以得到，Compose([transforms参数1,transforms参数2,...])"
   ]
  },
  {
   "cell_type": "markdown",
   "metadata": {},
   "source": [
    "导包"
   ]
  },
  {
   "cell_type": "code",
   "execution_count": 13,
   "metadata": {},
   "outputs": [],
   "source": [
    "from torch.utils.tensorboard import SummaryWriter\n",
    "from torchvision import transforms\n",
    "from PIL import Image\n",
    "import cv2"
   ]
  },
  {
   "cell_type": "markdown",
   "metadata": {},
   "source": [
    "设置打开图片的路径和信息"
   ]
  },
  {
   "cell_type": "code",
   "execution_count": 14,
   "metadata": {},
   "outputs": [],
   "source": [
    "# 设置文件的打开路径\n",
    "img_path = \"dataset/dataset_test/train/bees/16838648_415acd9e3f.jpg\"\n",
    "# 获得该图片的信息\n",
    "img_PIL = Image.open(img_path)\n",
    "# img_CV = cv2.imread(img_path)"
   ]
  },
  {
   "cell_type": "markdown",
   "metadata": {},
   "source": [
    "创建Compose对象，对transforms操作进行打包"
   ]
  },
  {
   "cell_type": "code",
   "execution_count": 15,
   "metadata": {},
   "outputs": [],
   "source": [
    "# 创建Resize缩放对象\n",
    "resize_transforms = transforms.Resize((512,512))\n",
    "# 创建ToTensor对象\n",
    "totensor_transforms = transforms.ToTensor()\n",
    "# 创建Compose对象\n",
    "compose_transforms = transforms.Compose([\n",
    "    resize_transforms,\n",
    "    totensor_transforms\n",
    "])"
   ]
  },
  {
   "cell_type": "code",
   "execution_count": 16,
   "metadata": {},
   "outputs": [],
   "source": [
    "img_tensor = totensor_transforms(img_PIL)\n",
    "img_resize_tensor = compose_transforms(img_PIL)"
   ]
  },
  {
   "cell_type": "code",
   "execution_count": 17,
   "metadata": {},
   "outputs": [],
   "source": [
    "# 设置生成图片的位置\n",
    "writer = SummaryWriter(\"SummaryWriter/img/logs\")\n",
    "# 绘制原版图片\n",
    "writer.add_image(\"Resize\", img_tensor, 1)\n",
    "# 绘制打包操作完毕的图片\n",
    "writer.add_image(\"Resize\", img_resize_tensor, 2)"
   ]
  }
 ],
 "metadata": {
  "kernelspec": {
   "display_name": "Python 3.9.12 ('DeepLearning')",
   "language": "python",
   "name": "python3"
  },
  "language_info": {
   "codemirror_mode": {
    "name": "ipython",
    "version": 3
   },
   "file_extension": ".py",
   "mimetype": "text/x-python",
   "name": "python",
   "nbconvert_exporter": "python",
   "pygments_lexer": "ipython3",
   "version": "3.9.12"
  },
  "orig_nbformat": 4,
  "vscode": {
   "interpreter": {
    "hash": "43b0a550ef5c6a967954effa912da879379e1c16afb6534ad7d5212b4a32c414"
   }
  }
 },
 "nbformat": 4,
 "nbformat_minor": 2
}
