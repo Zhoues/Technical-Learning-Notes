{
 "cells": [
  {
   "cell_type": "markdown",
   "metadata": {},
   "source": [
    "### torchvision中dataloader的使用"
   ]
  },
  {
   "cell_type": "markdown",
   "metadata": {},
   "source": [
    "参数说明：\n",
    "- dataset(Dataset): 数据集\n",
    "- batch_size(int,optional): 每次加载数据的个数\n",
    "- shuffle(bool,optional): 每次读取完毕之后是否需要打乱顺序\n",
    "- batch_samlper(Sampler or Iterable,optional)\n",
    "- num_workers(int,optional): 多少子进程参与加载\n",
    "- drop_last(bool,optional): 剩下的数据是否舍去"
   ]
  }
 ],
 "metadata": {
  "kernelspec": {
   "display_name": "Python 3.9.12 ('DeepLearning')",
   "language": "python",
   "name": "python3"
  },
  "language_info": {
   "name": "python",
   "version": "3.9.12"
  },
  "orig_nbformat": 4,
  "vscode": {
   "interpreter": {
    "hash": "43b0a550ef5c6a967954effa912da879379e1c16afb6534ad7d5212b4a32c414"
   }
  }
 },
 "nbformat": 4,
 "nbformat_minor": 2
}
