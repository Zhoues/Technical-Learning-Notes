{
 "cells": [
  {
   "cell_type": "markdown",
   "metadata": {},
   "source": [
    "### 完整的模型训练套路"
   ]
  },
  {
   "cell_type": "code",
   "execution_count": 12,
   "metadata": {},
   "outputs": [],
   "source": [
    "import torch\n",
    "import torchvision\n",
    "from torch import nn\n",
    "from torch.nn import *\n",
    "from torch.utils.data import DataLoader"
   ]
  },
  {
   "cell_type": "code",
   "execution_count": 13,
   "metadata": {},
   "outputs": [],
   "source": [
    "# 统一转换为 tensor 类型\n",
    "dataset_transform = torchvision.transforms.Compose([\n",
    "    torchvision.transforms.ToTensor()\n",
    "])"
   ]
  },
  {
   "cell_type": "code",
   "execution_count": 14,
   "metadata": {},
   "outputs": [
    {
     "name": "stdout",
     "output_type": "stream",
     "text": [
      "Files already downloaded and verified\n",
      "Files already downloaded and verified\n"
     ]
    }
   ],
   "source": [
    "# 训练集\n",
    "train_set = torchvision.datasets.CIFAR10(root='./dataset/CIFAR10',train=True, transform=dataset_transform, download=True)\n",
    "# 测试集\n",
    "test_set = torchvision.datasets.CIFAR10(root='./dataset/CIFAR10',train=False, transform=dataset_transform, download=True)"
   ]
  },
  {
   "cell_type": "code",
   "execution_count": 22,
   "metadata": {},
   "outputs": [],
   "source": [
    "train_set_size = len(train_set)\n",
    "test_set_size = len(test_set)"
   ]
  },
  {
   "cell_type": "code",
   "execution_count": 16,
   "metadata": {},
   "outputs": [],
   "source": [
    "# 创建加载数据的对象\n",
    "train_loader = DataLoader(dataset=train_set, batch_size=64)\n",
    "test_loader = DataLoader(dataset=test_set, batch_size=64)"
   ]
  },
  {
   "cell_type": "code",
   "execution_count": 17,
   "metadata": {},
   "outputs": [],
   "source": [
    "class MyModel(nn.Module):\n",
    "    # 重写构造函数，确定神经网络的构成\n",
    "    def __init__(self):\n",
    "        # 调用父类进行初始化\n",
    "        super(MyModel, self).__init__()\n",
    "        self.model1 = Sequential(\n",
    "            Conv2d(3,32,5,padding=2),\n",
    "            MaxPool2d(2),\n",
    "            Conv2d(32,32,5,padding=2),\n",
    "            MaxPool2d(2),\n",
    "            Conv2d(32,64,5,padding=2),\n",
    "            MaxPool2d(2),\n",
    "            Flatten(),\n",
    "            Linear(1024,64),\n",
    "            Linear(64,10)\n",
    "        )\n",
    "    # 重写前向运算\n",
    "    def forward(self, x):\n",
    "       return self.model1(x)"
   ]
  },
  {
   "cell_type": "code",
   "execution_count": 18,
   "metadata": {},
   "outputs": [],
   "source": [
    "mymodel = MyModel()\n",
    "loss = CrossEntropyLoss()\n",
    "lr = 0.01\n",
    "optim = torch.optim.SGD(mymodel.parameters(), lr=lr)"
   ]
  },
  {
   "cell_type": "code",
   "execution_count": 23,
   "metadata": {},
   "outputs": [
    {
     "name": "stdout",
     "output_type": "stream",
     "text": [
      "-----第 1 轮训练-----\n",
      "整体测试集上的Loss: 245.44336187839508\n",
      "整体测试集上的准确率: 0.43459999561309814\n",
      "已保存模型\n",
      "-----第 2 轮训练-----\n",
      "整体测试集上的Loss: 234.46131908893585\n",
      "整体测试集上的准确率: 0.4580000042915344\n",
      "已保存模型\n"
     ]
    }
   ],
   "source": [
    "total_train_step = 0\n",
    "for epoch in range(2):\n",
    "    print(\"-----第 {} 轮训练-----\".format(epoch+1))\n",
    "\n",
    "    # 训练步骤\n",
    "    mymodel.train()\n",
    "    for data in train_loader:\n",
    "\n",
    "        imgs, targets = data\n",
    "        output = mymodel(imgs)\n",
    "\n",
    "        # 求解损失函数\n",
    "        result_loss = loss(output,targets)\n",
    "        # 梯度初始化为0，不受之前求解的梯度影响\n",
    "        optim.zero_grad()\n",
    "        # 进行反向传播优化(求解梯度)\n",
    "        result_loss.backward()\n",
    "        # 利用梯度优化参数\n",
    "        optim.step()\n",
    "\n",
    "        total_train_step += 1\n",
    "        # print(\"训练次数: {}, Loss: {}\".format(total_train_step,result_loss.item()))\n",
    "    \n",
    "    # 测试步骤\n",
    "    mymodel.eval()\n",
    "    total_test_loss = 0\n",
    "    total_accuracy = 0\n",
    "    with torch.no_grad():\n",
    "        for data in test_loader:\n",
    "\n",
    "            imgs, targets = data\n",
    "            output = mymodel(imgs)\n",
    "\n",
    "            # 求解损失函数\n",
    "            result_loss = loss(output,targets)\n",
    "            total_test_loss += result_loss.item()\n",
    "\n",
    "            # 求解准确率\n",
    "            accuracy = (output.argmax(1) == targets).sum()\n",
    "            total_accuracy += accuracy\n",
    "\n",
    "    print(\"整体测试集上的Loss: {}\".format(total_test_loss))\n",
    "    print(\"整体测试集上的准确率: {}\".format(total_accuracy/test_set_size))\n",
    "    # 保存模型\n",
    "    torch.save(mymodel,\"model/CIFA10_{}.pth\".format(epoch+1))\n",
    "    print(\"已保存模型\")\n"
   ]
  }
 ],
 "metadata": {
  "kernelspec": {
   "display_name": "Python 3.9.12 ('DeepLearning')",
   "language": "python",
   "name": "python3"
  },
  "language_info": {
   "codemirror_mode": {
    "name": "ipython",
    "version": 3
   },
   "file_extension": ".py",
   "mimetype": "text/x-python",
   "name": "python",
   "nbconvert_exporter": "python",
   "pygments_lexer": "ipython3",
   "version": "3.9.12"
  },
  "orig_nbformat": 4,
  "vscode": {
   "interpreter": {
    "hash": "43b0a550ef5c6a967954effa912da879379e1c16afb6534ad7d5212b4a32c414"
   }
  }
 },
 "nbformat": 4,
 "nbformat_minor": 2
}
