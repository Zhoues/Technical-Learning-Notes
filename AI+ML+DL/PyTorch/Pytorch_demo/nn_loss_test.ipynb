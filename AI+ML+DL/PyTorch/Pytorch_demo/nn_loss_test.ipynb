{
 "cells": [
  {
   "cell_type": "markdown",
   "metadata": {},
   "source": [
    "### loss损失函数"
   ]
  },
  {
   "cell_type": "markdown",
   "metadata": {},
   "source": [
    "常用的损失函数"
   ]
  },
  {
   "cell_type": "markdown",
   "metadata": {},
   "source": [
    "L1LOSS\n",
    "$$\n",
    "ℓ(x,y)=L=\\{l \n",
    "_1\n",
    "​\n",
    " ,…,l \n",
    "_N\n",
    "​\n",
    " \\} \n",
    "^⊤\n",
    " ,l \n",
    "n\n",
    "​\n",
    " =∣x \n",
    "_n\n",
    "​\n",
    " −y \n",
    "_n\n",
    "​\n",
    " ∣\n",
    "$$"
   ]
  },
  {
   "cell_type": "markdown",
   "metadata": {},
   "source": [
    "MSELOSS\n",
    "$$\n",
    "ℓ(x,y)=L=\\{l \n",
    "_1\n",
    "​\n",
    " ,…,l \n",
    "_N\n",
    "​\n",
    " \\} \n",
    "^⊤\n",
    " ,l \n",
    "n\n",
    "​\n",
    " =(x \n",
    "_n\n",
    "​\n",
    " −y \n",
    "_n\n",
    "​\n",
    " ) \n",
    "^2\n",
    " \n",
    "$$"
   ]
  },
  {
   "cell_type": "markdown",
   "metadata": {},
   "source": [
    "### 代码实操"
   ]
  },
  {
   "cell_type": "code",
   "execution_count": 3,
   "metadata": {},
   "outputs": [],
   "source": [
    "import torchvision\n",
    "import torch\n",
    "from torch.nn import *\n",
    "from torch.utils.data import DataLoader"
   ]
  },
  {
   "cell_type": "code",
   "execution_count": 4,
   "metadata": {},
   "outputs": [],
   "source": [
    "inputs = torch.tensor([1,2,3], dtype=torch.float32)\n",
    "targets = torch.tensor([1,2,5], dtype=torch.float32)"
   ]
  },
  {
   "cell_type": "code",
   "execution_count": 5,
   "metadata": {},
   "outputs": [],
   "source": [
    "inputs = torch.reshape(inputs, (1,1,1,3))\n",
    "targets = torch.reshape(targets, (1,1,1,3))"
   ]
  },
  {
   "cell_type": "code",
   "execution_count": 8,
   "metadata": {},
   "outputs": [
    {
     "data": {
      "text/plain": [
       "tensor(0.6667)"
      ]
     },
     "execution_count": 8,
     "metadata": {},
     "output_type": "execute_result"
    }
   ],
   "source": [
    "loss = L1Loss(reduction='mean')\n",
    "result = loss(inputs,targets)\n",
    "result"
   ]
  },
  {
   "cell_type": "code",
   "execution_count": 9,
   "metadata": {},
   "outputs": [
    {
     "data": {
      "text/plain": [
       "tensor(1.3333)"
      ]
     },
     "execution_count": 9,
     "metadata": {},
     "output_type": "execute_result"
    }
   ],
   "source": [
    "loss = MSELoss(reduction='mean')\n",
    "result = loss(inputs,targets)\n",
    "result"
   ]
  },
  {
   "cell_type": "code",
   "execution_count": 10,
   "metadata": {},
   "outputs": [
    {
     "data": {
      "text/plain": [
       "tensor(1.1019)"
      ]
     },
     "execution_count": 10,
     "metadata": {},
     "output_type": "execute_result"
    }
   ],
   "source": [
    "inputs = torch.tensor([0.1,0.2,0.3])\n",
    "targets = torch.tensor([1])\n",
    "inputs = torch.reshape(inputs,(1,3))\n",
    "loss = CrossEntropyLoss()\n",
    "result = loss(inputs,targets)\n",
    "result"
   ]
  }
 ],
 "metadata": {
  "kernelspec": {
   "display_name": "Python 3.9.12 ('DeepLearning')",
   "language": "python",
   "name": "python3"
  },
  "language_info": {
   "codemirror_mode": {
    "name": "ipython",
    "version": 3
   },
   "file_extension": ".py",
   "mimetype": "text/x-python",
   "name": "python",
   "nbconvert_exporter": "python",
   "pygments_lexer": "ipython3",
   "version": "3.9.12"
  },
  "orig_nbformat": 4,
  "vscode": {
   "interpreter": {
    "hash": "43b0a550ef5c6a967954effa912da879379e1c16afb6534ad7d5212b4a32c414"
   }
  }
 },
 "nbformat": 4,
 "nbformat_minor": 2
}
