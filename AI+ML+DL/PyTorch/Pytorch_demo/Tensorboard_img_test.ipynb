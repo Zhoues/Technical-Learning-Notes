{
 "cells": [
  {
   "cell_type": "markdown",
   "metadata": {},
   "source": [
    "### Tensorboard的使用2：用于描绘图像结果"
   ]
  },
  {
   "cell_type": "markdown",
   "metadata": {},
   "source": [
    "导包\n",
    "- 导入open-cv或者Image\n",
    "  - 使用open-cv打开图片获得到该图片的numpy.array数据\n",
    "  - 使用Image也可以获取到PIL格式的数据，但是使用numpy.array变成numpy.array数据\n",
    "- 需要numpy.array数据是因为add_image()函数传递的参数仅限于以下几个格式：\n",
    "  - numpy.array\n",
    "  - Tensor.tensor"
   ]
  },
  {
   "cell_type": "code",
   "execution_count": 2,
   "metadata": {},
   "outputs": [],
   "source": [
    "from torch.utils.tensorboard import SummaryWriter\n",
    "from PIL import Image\n",
    "import numpy as np"
   ]
  },
  {
   "cell_type": "markdown",
   "metadata": {},
   "source": [
    "绘制图像"
   ]
  },
  {
   "cell_type": "code",
   "execution_count": 4,
   "metadata": {},
   "outputs": [],
   "source": [
    "# 设置生成图片的位置\n",
    "writer = SummaryWriter(\"SummaryWriter/img/logs\")\n",
    "# 设置文件的打开路径\n",
    "img_path = \"dataset/dataset_test/train/bees/16838648_415acd9e3f.jpg\"\n",
    "# 获得该图片的信息\n",
    "img_PIL = Image.open(img_path)\n",
    "# 转化为numpy.array型\n",
    "img_array = np.array(img_PIL)\n",
    "# 进行绘制(图片显示名称，图片数据，步骤，传入数据样式)\n",
    "writer.add_image(\"img_test\", img_array, 1, dataformats='HWC')"
   ]
  },
  {
   "cell_type": "markdown",
   "metadata": {},
   "source": [
    "再次绘制图像(图片路径以及步骤发生变换)"
   ]
  },
  {
   "cell_type": "code",
   "execution_count": 5,
   "metadata": {},
   "outputs": [],
   "source": [
    "# 设置文件的打开路径\n",
    "img_path = \"dataset/dataset_test/train/ants/formica.jpeg\"\n",
    "# 获得该图片的信息\n",
    "img_PIL = Image.open(img_path)\n",
    "# 转化为numpy.array型\n",
    "img_array = np.array(img_PIL)\n",
    "# 进行绘制(图片显示名称，图片数据，步骤，传入数据样式)\n",
    "writer.add_image(\"img_test\", img_array, 2, dataformats='HWC')"
   ]
  }
 ],
 "metadata": {
  "kernelspec": {
   "display_name": "Python 3.9.12 ('DeepLearning')",
   "language": "python",
   "name": "python3"
  },
  "language_info": {
   "codemirror_mode": {
    "name": "ipython",
    "version": 3
   },
   "file_extension": ".py",
   "mimetype": "text/x-python",
   "name": "python",
   "nbconvert_exporter": "python",
   "pygments_lexer": "ipython3",
   "version": "3.9.12"
  },
  "orig_nbformat": 4,
  "vscode": {
   "interpreter": {
    "hash": "43b0a550ef5c6a967954effa912da879379e1c16afb6534ad7d5212b4a32c414"
   }
  }
 },
 "nbformat": 4,
 "nbformat_minor": 2
}
